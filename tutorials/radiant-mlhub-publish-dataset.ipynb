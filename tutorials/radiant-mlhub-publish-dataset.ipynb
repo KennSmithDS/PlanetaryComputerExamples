{
 "cells": [
  {
   "cell_type": "markdown",
   "id": "bf73380d-383d-499e-baad-ead1f5948bf5",
   "metadata": {},
   "source": [
    "## Publish an ML Training Dataset on Radiant MLHub\n",
    "\n",
    "<img src='https://radiant-assets.s3-us-west-2.amazonaws.com/PrimaryRadiantMLHubLogo.png' alt='Radiant MLHub Logo' width='300'/>\n"
   ]
  },
  {
   "cell_type": "markdown",
   "id": "4c593de1-8451-4bfd-b004-a0fc6de1aa27",
   "metadata": {},
   "source": [
    "In this tutorial, we will walk through the process of creating STAC Collections for the labels and source imagery in an example machine learning (ML) training dataset. We will then describe the process for submitting this dataset to [Radiant MLHub](https://mlhub.earth/) for publication.\n",
    "\n",
    "For this example, we will use the sample training dataset from the [SpaceNet 7: Multi-Temporal Urban Development Challenge](https://spacenet.ai/sn7-challenge/)."
   ]
  },
  {
   "cell_type": "markdown",
   "id": "720968ee-1e83-4a34-b2b1-182def1c1586",
   "metadata": {},
   "source": [
    "### Setup"
   ]
  },
  {
   "cell_type": "markdown",
   "id": "41bdab98-4567-4763-a735-6da5cf0cd68a",
   "metadata": {},
   "source": [
    "Let's start by importing the libraries we will use through the rest of the tutorial."
   ]
  },
  {
   "cell_type": "code",
   "execution_count": 1,
   "id": "ce566ab8-e215-4367-9fe6-4da05286d6b5",
   "metadata": {},
   "outputs": [
    {
     "name": "stdout",
     "output_type": "stream",
     "text": [
      "Requirement already satisfied: rio-stac==0.3.2 in /srv/conda/envs/notebook/lib/python3.8/site-packages (0.3.2)\n",
      "Requirement already satisfied: pystac<2.0.0,>=1.0.0 in /srv/conda/envs/notebook/lib/python3.8/site-packages (from rio-stac==0.3.2) (1.2.0)\n",
      "Requirement already satisfied: rasterio in /srv/conda/envs/notebook/lib/python3.8/site-packages (from rio-stac==0.3.2) (1.2.10)\n",
      "Requirement already satisfied: python-dateutil>=2.7.0 in /srv/conda/envs/notebook/lib/python3.8/site-packages (from pystac<2.0.0,>=1.0.0->rio-stac==0.3.2) (2.8.2)\n",
      "Requirement already satisfied: six>=1.5 in /srv/conda/envs/notebook/lib/python3.8/site-packages (from python-dateutil>=2.7.0->pystac<2.0.0,>=1.0.0->rio-stac==0.3.2) (1.16.0)\n",
      "Requirement already satisfied: snuggs>=1.4.1 in /srv/conda/envs/notebook/lib/python3.8/site-packages (from rasterio->rio-stac==0.3.2) (1.4.7)\n",
      "Requirement already satisfied: cligj>=0.5 in /srv/conda/envs/notebook/lib/python3.8/site-packages (from rasterio->rio-stac==0.3.2) (0.7.2)\n",
      "Requirement already satisfied: setuptools in /srv/conda/envs/notebook/lib/python3.8/site-packages (from rasterio->rio-stac==0.3.2) (59.8.0)\n",
      "Requirement already satisfied: attrs in /srv/conda/envs/notebook/lib/python3.8/site-packages (from rasterio->rio-stac==0.3.2) (21.4.0)\n",
      "Requirement already satisfied: affine in /srv/conda/envs/notebook/lib/python3.8/site-packages (from rasterio->rio-stac==0.3.2) (2.3.0)\n",
      "Requirement already satisfied: click-plugins in /srv/conda/envs/notebook/lib/python3.8/site-packages (from rasterio->rio-stac==0.3.2) (1.1.1)\n",
      "Requirement already satisfied: certifi in /srv/conda/envs/notebook/lib/python3.8/site-packages (from rasterio->rio-stac==0.3.2) (2021.10.8)\n",
      "Requirement already satisfied: numpy in /srv/conda/envs/notebook/lib/python3.8/site-packages (from rasterio->rio-stac==0.3.2) (1.20.0)\n",
      "Requirement already satisfied: click>=4.0 in /srv/conda/envs/notebook/lib/python3.8/site-packages (from rasterio->rio-stac==0.3.2) (8.0.3)\n",
      "Requirement already satisfied: pyparsing>=2.1.6 in /srv/conda/envs/notebook/lib/python3.8/site-packages (from snuggs>=1.4.1->rasterio->rio-stac==0.3.2) (3.0.7)\n"
     ]
    }
   ],
   "source": [
    "!pip install rio-stac==0.3.2"
   ]
  },
  {
   "cell_type": "code",
   "execution_count": 18,
   "id": "52420a33-ae4e-4b16-b893-f42dd67909fb",
   "metadata": {},
   "outputs": [],
   "source": [
    "import enum\n",
    "import os\n",
    "import pathlib\n",
    "import re\n",
    "import shutil\n",
    "import tarfile\n",
    "import tempfile\n",
    "import urllib.parse\n",
    "\n",
    "import pystac\n",
    "import rasterio\n",
    "from pystac.utils import str_to_datetime\n",
    "from pystac.extensions.eo import Band, EOExtension\n",
    "from rio_stac.stac import create_stac_item"
   ]
  },
  {
   "cell_type": "markdown",
   "id": "7d7026bd-5035-49c8-807d-8c9063547191",
   "metadata": {},
   "source": [
    "### Data Exploration"
   ]
  },
  {
   "cell_type": "markdown",
   "id": "2f3295f2-431b-448a-ae1b-ab293ea7aadd",
   "metadata": {},
   "source": [
    "First, we will download the sample subset of training data provided by SpaceNet and extract the tar archive. This sample does not include the full set of labels for the dataset, but it will give us enough to work with for this example."
   ]
  },
  {
   "cell_type": "code",
   "execution_count": 3,
   "id": "a6be708a-b187-48c9-8d5f-27a896ed10a0",
   "metadata": {},
   "outputs": [
    {
     "name": "stdout",
     "output_type": "stream",
     "text": [
      "File /tmp/sample_data.tar.gz already exists, skipping download\n",
      "Data already extracted from archive; skipping extract.\n"
     ]
    }
   ],
   "source": [
    "# Get the TMP directory for this system\n",
    "tmp_dir = pathlib.Path(tempfile.gettempdir())\n",
    "\n",
    "tar_url = \"https://s3.amazonaws.com/spacenet-dataset/spacenet/SN6_buildings/tarballs/SN6_buildings_AOI_11_Rotterdam_train_sample.tar.gz\"\n",
    "tar_path = tmp_dir / \"sample_data.tar.gz\"\n",
    "data_dir = tmp_dir / \"sample_data\"\n",
    "\n",
    "if tar_path.exists():\n",
    "    print(f\"File {tar_path} already exists, skipping download\")\n",
    "else:\n",
    "    !curl {tar_url} -o {tar_path}\n",
    "    \n",
    "if data_dir.exists():\n",
    "    print(f\"Data already extracted from archive; skipping extract.\")\n",
    "else:\n",
    "    os.makedirs(data_dir, exist_ok=True)\n",
    "    !tar -xzf {tar_path} -C {tmp_dir} --transform s/SN6_buildings_AOI_11_Rotterdam_train_sample/{data_dir.name}/\n",
    "    print(f\"Extracted data to {data_dir}\")"
   ]
  },
  {
   "cell_type": "markdown",
   "id": "68d03841-d930-480f-b3f3-f4a03ad1af33",
   "metadata": {},
   "source": [
    "Next, let's take a look at the directory structure within the sample data directory."
   ]
  },
  {
   "cell_type": "code",
   "execution_count": 4,
   "id": "273826a9-e03a-4124-8b9f-8ceeb61fde51",
   "metadata": {},
   "outputs": [
    {
     "name": "stdout",
     "output_type": "stream",
     "text": [
      "/tmp/sample_data\n",
      "/tmp/sample_data/AOI_11_Rotterdam\n",
      "/tmp/sample_data/AOI_11_Rotterdam/SummaryData\n",
      "\tSN6_TrainSample_AOI_11_Rotterdam_Buildings.csv\n",
      "/tmp/sample_data/AOI_11_Rotterdam/geojson_buildings\n",
      "\tSN6_Train_AOI_11_Rotterdam_Buildings_20190804120223_20190804120456_tile_55.geojson\n",
      "\tSN6_Train_AOI_11_Rotterdam_Buildings_20190804120223_20190804120456_tile_69.geojson\n",
      "\tSN6_Train_AOI_11_Rotterdam_Buildings_20190804133131_20190804133356_tile_783.geojson\n",
      "\tSN6_Train_AOI_11_Rotterdam_Buildings_20190822075219_20190822075510_tile_8137.geojson\n",
      "\tSN6_Train_AOI_11_Rotterdam_Buildings_20190822082538_20190822082826_tile_4164.geojson\n",
      "\tSN6_Train_AOI_11_Rotterdam_Buildings_20190822091156_20190822091502_tile_108.geojson\n",
      "\tSN6_Train_AOI_11_Rotterdam_Buildings_20190823082625_20190823082938_tile_442.geojson\n",
      "\tSN6_Train_AOI_11_Rotterdam_Buildings_20190823091132_20190823091448_tile_7924.geojson\n",
      "\tSN6_Train_AOI_11_Rotterdam_Buildings_20190823123151_20190823123459_tile_2317.geojson\n",
      "\tSN6_Train_AOI_11_Rotterdam_Buildings_20190823145306_20190823145612_tile_7218.geojson\n",
      "/tmp/sample_data/AOI_11_Rotterdam/RGBNIR\n",
      "\tSN6_Train_AOI_11_Rotterdam_RGBNIR_20190804120223_20190804120456_tile_55.tif\n",
      "\tSN6_Train_AOI_11_Rotterdam_RGBNIR_20190804120223_20190804120456_tile_69.tif\n",
      "\tSN6_Train_AOI_11_Rotterdam_RGBNIR_20190804133131_20190804133356_tile_783.tif\n",
      "\tSN6_Train_AOI_11_Rotterdam_RGBNIR_20190822075219_20190822075510_tile_8137.tif\n",
      "\tSN6_Train_AOI_11_Rotterdam_RGBNIR_20190822082538_20190822082826_tile_4164.tif\n",
      "\tSN6_Train_AOI_11_Rotterdam_RGBNIR_20190822091156_20190822091502_tile_108.tif\n",
      "\tSN6_Train_AOI_11_Rotterdam_RGBNIR_20190823082625_20190823082938_tile_442.tif\n",
      "\tSN6_Train_AOI_11_Rotterdam_RGBNIR_20190823091132_20190823091448_tile_7924.tif\n",
      "\tSN6_Train_AOI_11_Rotterdam_RGBNIR_20190823123151_20190823123459_tile_2317.tif\n",
      "\tSN6_Train_AOI_11_Rotterdam_RGBNIR_20190823145306_20190823145612_tile_7218.tif\n",
      "/tmp/sample_data/AOI_11_Rotterdam/PS-RGBNIR\n",
      "\tSN6_Train_AOI_11_Rotterdam_PS-RGBNIR_20190804120223_20190804120456_tile_55.tif\n",
      "\tSN6_Train_AOI_11_Rotterdam_PS-RGBNIR_20190804120223_20190804120456_tile_69.tif\n",
      "\tSN6_Train_AOI_11_Rotterdam_PS-RGBNIR_20190804133131_20190804133356_tile_783.tif\n",
      "\tSN6_Train_AOI_11_Rotterdam_PS-RGBNIR_20190822075219_20190822075510_tile_8137.tif\n",
      "\tSN6_Train_AOI_11_Rotterdam_PS-RGBNIR_20190822082538_20190822082826_tile_4164.tif\n",
      "\tSN6_Train_AOI_11_Rotterdam_PS-RGBNIR_20190822091156_20190822091502_tile_108.tif\n",
      "\tSN6_Train_AOI_11_Rotterdam_PS-RGBNIR_20190823082625_20190823082938_tile_442.tif\n",
      "\tSN6_Train_AOI_11_Rotterdam_PS-RGBNIR_20190823091132_20190823091448_tile_7924.tif\n",
      "\tSN6_Train_AOI_11_Rotterdam_PS-RGBNIR_20190823123151_20190823123459_tile_2317.tif\n",
      "\tSN6_Train_AOI_11_Rotterdam_PS-RGBNIR_20190823145306_20190823145612_tile_7218.tif\n",
      "/tmp/sample_data/AOI_11_Rotterdam/SAR-Intensity\n",
      "\tSN6_Train_AOI_11_Rotterdam_SAR-Intensity_20190804120223_20190804120456_tile_55.tif\n",
      "\tSN6_Train_AOI_11_Rotterdam_SAR-Intensity_20190804120223_20190804120456_tile_69.tif\n",
      "\tSN6_Train_AOI_11_Rotterdam_SAR-Intensity_20190804133131_20190804133356_tile_783.tif\n",
      "\tSN6_Train_AOI_11_Rotterdam_SAR-Intensity_20190822075219_20190822075510_tile_8137.tif\n",
      "\tSN6_Train_AOI_11_Rotterdam_SAR-Intensity_20190822082538_20190822082826_tile_4164.tif\n",
      "\tSN6_Train_AOI_11_Rotterdam_SAR-Intensity_20190822091156_20190822091502_tile_108.tif\n",
      "\tSN6_Train_AOI_11_Rotterdam_SAR-Intensity_20190823082625_20190823082938_tile_442.tif\n",
      "\tSN6_Train_AOI_11_Rotterdam_SAR-Intensity_20190823091132_20190823091448_tile_7924.tif\n",
      "\tSN6_Train_AOI_11_Rotterdam_SAR-Intensity_20190823123151_20190823123459_tile_2317.tif\n",
      "\tSN6_Train_AOI_11_Rotterdam_SAR-Intensity_20190823145306_20190823145612_tile_7218.tif\n",
      "/tmp/sample_data/AOI_11_Rotterdam/PAN\n",
      "\tSN6_Train_AOI_11_Rotterdam_PAN_20190804120223_20190804120456_tile_55.tif\n",
      "\tSN6_Train_AOI_11_Rotterdam_PAN_20190804120223_20190804120456_tile_69.tif\n",
      "\tSN6_Train_AOI_11_Rotterdam_PAN_20190804133131_20190804133356_tile_783.tif\n",
      "\tSN6_Train_AOI_11_Rotterdam_PAN_20190822075219_20190822075510_tile_8137.tif\n",
      "\tSN6_Train_AOI_11_Rotterdam_PAN_20190822082538_20190822082826_tile_4164.tif\n",
      "\tSN6_Train_AOI_11_Rotterdam_PAN_20190822091156_20190822091502_tile_108.tif\n",
      "\tSN6_Train_AOI_11_Rotterdam_PAN_20190823082625_20190823082938_tile_442.tif\n",
      "\tSN6_Train_AOI_11_Rotterdam_PAN_20190823091132_20190823091448_tile_7924.tif\n",
      "\tSN6_Train_AOI_11_Rotterdam_PAN_20190823123151_20190823123459_tile_2317.tif\n",
      "\tSN6_Train_AOI_11_Rotterdam_PAN_20190823145306_20190823145612_tile_7218.tif\n",
      "/tmp/sample_data/AOI_11_Rotterdam/PS-RGB\n",
      "\tSN6_Train_AOI_11_Rotterdam_PS-RGB_20190804120223_20190804120456_tile_55.tif\n",
      "\tSN6_Train_AOI_11_Rotterdam_PS-RGB_20190804120223_20190804120456_tile_69.tif\n",
      "\tSN6_Train_AOI_11_Rotterdam_PS-RGB_20190804133131_20190804133356_tile_783.tif\n",
      "\tSN6_Train_AOI_11_Rotterdam_PS-RGB_20190822075219_20190822075510_tile_8137.tif\n",
      "\tSN6_Train_AOI_11_Rotterdam_PS-RGB_20190822082538_20190822082826_tile_4164.tif\n",
      "\tSN6_Train_AOI_11_Rotterdam_PS-RGB_20190822091156_20190822091502_tile_108.tif\n",
      "\tSN6_Train_AOI_11_Rotterdam_PS-RGB_20190823082625_20190823082938_tile_442.tif\n",
      "\tSN6_Train_AOI_11_Rotterdam_PS-RGB_20190823091132_20190823091448_tile_7924.tif\n",
      "\tSN6_Train_AOI_11_Rotterdam_PS-RGB_20190823123151_20190823123459_tile_2317.tif\n",
      "\tSN6_Train_AOI_11_Rotterdam_PS-RGB_20190823145306_20190823145612_tile_7218.tif\n"
     ]
    }
   ],
   "source": [
    "for root, _, files in os.walk(data_dir):\n",
    "    print(root)\n",
    "    if files:\n",
    "        print(\"\\t\" + \"\\n\\t\".join(sorted(files)))"
   ]
  },
  {
   "cell_type": "markdown",
   "id": "8959e18f-199f-42c8-8309-36deb3791262",
   "metadata": {},
   "source": [
    "We can see from the directory layout that our sample data has a single AOI directory (`AOI_11_Rotterdam`), which in turn has sub-directories containing GeoJSON labels and various types of source imagery. Based on the naming convention of the files, we can guess that each GeoJSON label can be matched to the corresponding source imagery based on the filename. Furthermore, the last part of the filename (before `tile_*`) looks like a timestamp range, probably representing the datetime of the imagery capture.\n",
    "\n",
    "For example, the `SN6_Train_AOI_11_Rotterdam_Buildings_20190804120223_20190804120456_tile_55.geojson` label could be applied to the pansharpened RGB imagery in `SN6_Train_AOI_11_Rotterdam_PS-RGB_20190804120223_20190804120456_tile_55.tif` or the SAR intensity data in `SN6_Train_AOI_11_Rotterdam_SAR-Intensity_20190804120223_20190804120456_tile_55.tif`.\n",
    "\n",
    "Based on this observation, we can come up with a regular expression to capture the relevant parts of the label filename and use them to find different source images for those labels."
   ]
  },
  {
   "cell_type": "code",
   "execution_count": 21,
   "id": "a5e16d25-ddf3-45ae-bd49-91888ab5a89c",
   "metadata": {},
   "outputs": [],
   "source": [
    "aoi_name = \"AOI_11_Rotterdam\"\n",
    "aoi_dir = data_dir / aoi_name\n",
    "\n",
    "labels_pattern = re.compile(\n",
    "    r\"^(?P<prefix>SN6_Train_AOI_11_Rotterdam)\"\n",
    "    \"_Buildings_\"\n",
    "    \"(?P<start_datetime>20190804120223)\"\n",
    "    \"_\"\n",
    "    \"(?P<end_datetime>20190804120456)\"\n",
    "    \"_tile_\"\n",
    "    \"(?P<tile>55)\"\n",
    "    \"\\.geojson$\"\n",
    ")\n",
    "\n",
    "class SourceType(str, enum.Enum):\n",
    "    \"\"\"Enumerates the possible source types.\n",
    "    \"\"\"\n",
    "    RGBNIR = \"RGBNIR\"\n",
    "    PS_RGBNIR = \"PS-RGBNIR\"\n",
    "    SAR_Intensity = \"SAR-Intensity\"\n",
    "    PAN = \"PAN\"\n",
    "    PS_RGB = \"PS-RGB\"\n",
    "\n",
    "def get_source_info(label_path):\n",
    "    \"\"\"Gets a list of paths (as pathlib.Path instances) to source data associated with\n",
    "    the given label file path.\n",
    "    \"\"\"\n",
    "    label_path = os.fspath(label_path)\n",
    "    label_path = pathlib.Path(label_path)\n",
    "    match = labels_pattern.match(label_path.name)\n",
    "    if match is None:\n",
    "        raise ValueError(f\"Invalid filename {label_filename}\")\n",
    "    \n",
    "    prefix = match.group(\"prefix\")\n",
    "    start_datetime = match.group(\"start_datetime\")\n",
    "    end_datetime = match.group(\"end_datetime\")\n",
    "    tile = match.group(\"tile\")\n",
    "    \n",
    "    return [\n",
    "        {\n",
    "            # We use the path on S3 instead of the local path here\n",
    "            \"href\": f\"https://s3.amazonaws.com/spacenet-dataset/spacenet/SN6_buildings/train/\" \\\n",
    "                f\"{aoi_name}/{source_type.value}/\" \\\n",
    "                f\"{prefix}_{source_type.value}_{start_datetime}_{end_datetime}_tile_{tile}.tif\",\n",
    "            \"type\": source_type.value,\n",
    "            \"start_datetime\": start_datetime,\n",
    "            \"end_datetime\": end_datetime,\n",
    "        }\n",
    "        for source_type in SourceType\n",
    "    ]\n",
    "    \n",
    "    "
   ]
  },
  {
   "cell_type": "markdown",
   "id": "c453e704-34cf-4d7d-8de1-044c3dbf83ea",
   "metadata": {},
   "source": [
    "For example..."
   ]
  },
  {
   "cell_type": "code",
   "execution_count": 22,
   "id": "dcb37528-fc62-4eeb-904d-704ec85b9695",
   "metadata": {},
   "outputs": [
    {
     "data": {
      "text/plain": [
       "[{'href': 'https://s3.amazonaws.com/spacenet-dataset/spacenet/SN6_buildings/train/AOI_11_Rotterdam/RGBNIR/SN6_Train_AOI_11_Rotterdam_RGBNIR_20190804120223_20190804120456_tile_55.tif',\n",
       "  'type': 'RGBNIR',\n",
       "  'start_datetime': '20190804120223',\n",
       "  'end_datetime': '20190804120456'},\n",
       " {'href': 'https://s3.amazonaws.com/spacenet-dataset/spacenet/SN6_buildings/train/AOI_11_Rotterdam/PS-RGBNIR/SN6_Train_AOI_11_Rotterdam_PS-RGBNIR_20190804120223_20190804120456_tile_55.tif',\n",
       "  'type': 'PS-RGBNIR',\n",
       "  'start_datetime': '20190804120223',\n",
       "  'end_datetime': '20190804120456'},\n",
       " {'href': 'https://s3.amazonaws.com/spacenet-dataset/spacenet/SN6_buildings/train/AOI_11_Rotterdam/SAR-Intensity/SN6_Train_AOI_11_Rotterdam_SAR-Intensity_20190804120223_20190804120456_tile_55.tif',\n",
       "  'type': 'SAR-Intensity',\n",
       "  'start_datetime': '20190804120223',\n",
       "  'end_datetime': '20190804120456'},\n",
       " {'href': 'https://s3.amazonaws.com/spacenet-dataset/spacenet/SN6_buildings/train/AOI_11_Rotterdam/PAN/SN6_Train_AOI_11_Rotterdam_PAN_20190804120223_20190804120456_tile_55.tif',\n",
       "  'type': 'PAN',\n",
       "  'start_datetime': '20190804120223',\n",
       "  'end_datetime': '20190804120456'},\n",
       " {'href': 'https://s3.amazonaws.com/spacenet-dataset/spacenet/SN6_buildings/train/AOI_11_Rotterdam/PS-RGB/SN6_Train_AOI_11_Rotterdam_PS-RGB_20190804120223_20190804120456_tile_55.tif',\n",
       "  'type': 'PS-RGB',\n",
       "  'start_datetime': '20190804120223',\n",
       "  'end_datetime': '20190804120456'}]"
      ]
     },
     "execution_count": 22,
     "metadata": {},
     "output_type": "execute_result"
    }
   ],
   "source": [
    "label = \"SN6_Train_AOI_11_Rotterdam_Buildings_20190804120223_20190804120456_tile_55.geojson\"\n",
    "sources = get_source_info(label)\n",
    "sources"
   ]
  },
  {
   "cell_type": "markdown",
   "id": "c7dda111-e0b3-42ff-bdbc-f9ad49f50e15",
   "metadata": {},
   "source": [
    "### Catalog Source Imagery"
   ]
  },
  {
   "cell_type": "markdown",
   "id": "5a0c4fb6-7005-4189-afe8-75781461f7c9",
   "metadata": {},
   "source": [
    "Since each of the sources for a given label cover the same spatial and temporal extents, we can combine them into a single STAC Item, with each source represented as a distinct Asset. We will create the helper functions "
   ]
  },
  {
   "cell_type": "code",
   "execution_count": 27,
   "id": "6782d5c1-100b-4f56-960a-844fcbdb0d09",
   "metadata": {},
   "outputs": [],
   "source": [
    "def create_source_item(label_path):\n",
    "    sources = get_source_info(label_path)\n",
    "    \n",
    "    first_source = sources[0]\n",
    "    \n",
    "    # Bootstrap the source item using rio-stac based on the first asset\n",
    "    with rasterio.open(sources[0][\"href\"]) as src:\n",
    "        item = create_stac_item(\n",
    "            source=src,\n",
    "            asset_name=first_source[\"type\"],\n",
    "            asset_roles=[\"data\"],\n",
    "            # Note that we use a single datetime here instead of the range from the filename\n",
    "            input_datetime=str_to_datetime(first_source[\"start_datetime\"]),\n",
    "            with_proj=True,\n",
    "        )\n",
    "        \n",
    "    # rio-stac does not add the Asset \"type\" or \"title\" fields, so we add them manually\n",
    "    #  (all assets are Cloud-Optimized GeoTIFFs)\n",
    "    item.assets[first_source[\"type\"]].type = pystac.MediaType.COG\n",
    "    item.assets[first_source[\"type\"]].title = first_source[\"type\"]\n",
    "    \n",
    "    # Since the spatiotemporal metadata is the same for all assets, we do not need to read \n",
    "    # each one.\n",
    "    for source in sources[1:]:\n",
    "        asset = pystac.Asset.from_dict({\n",
    "            \"href\": source[\"href\"],\n",
    "            \"roles\": [\"data\"],\n",
    "            \"type\": str(pystac.MediaType.COG),\n",
    "            \"title\": source[\"type\"]\n",
    "        })\n",
    "        item.add_asset(source[\"type\"], asset)\n",
    "    \n",
    "    return item"
   ]
  },
  {
   "cell_type": "code",
   "execution_count": null,
   "id": "e769016b-cf1c-4dca-ab42-2e3588f8e668",
   "metadata": {},
   "outputs": [],
   "source": []
  },
  {
   "cell_type": "markdown",
   "id": "66a48b4f-9772-46b9-a96f-ec7591c6b3c8",
   "metadata": {},
   "source": [
    "### Catalog Labels"
   ]
  },
  {
   "cell_type": "markdown",
   "id": "b02acefe-ee14-4dfb-a826-b2af28a46594",
   "metadata": {},
   "source": [
    "### Submit to Radiant MLHub"
   ]
  },
  {
   "cell_type": "code",
   "execution_count": null,
   "id": "85307e44-2bd6-4463-903c-9fea2df3ed48",
   "metadata": {},
   "outputs": [],
   "source": [
    "tar_path.unlink(missing_ok=True)\n",
    "shutil.rmtree(data_dir, ignore_errors=True)"
   ]
  },
  {
   "cell_type": "code",
   "execution_count": null,
   "id": "ff611fad-f7a5-45c3-8108-3035e028777f",
   "metadata": {},
   "outputs": [],
   "source": []
  }
 ],
 "metadata": {
  "kernelspec": {
   "display_name": "Python 3 (ipykernel)",
   "language": "python",
   "name": "python3"
  },
  "language_info": {
   "codemirror_mode": {
    "name": "ipython",
    "version": 3
   },
   "file_extension": ".py",
   "mimetype": "text/x-python",
   "name": "python",
   "nbconvert_exporter": "python",
   "pygments_lexer": "ipython3",
   "version": "3.8.12"
  }
 },
 "nbformat": 4,
 "nbformat_minor": 5
}
